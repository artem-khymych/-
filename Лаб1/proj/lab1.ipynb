{
 "cells": [
  {
   "cell_type": "markdown",
   "id": "4be0e975-376e-41df-bfa3-b869ff78f838",
   "metadata": {},
   "source": [
    "Завдання І рівня складності – максимально 7 балів.\n",
    "Здійснити синтез математичних моделей та розробити програмний скрипт, що\n",
    "реалізує базові операції 2D перетворень над геометричними примітивами. Для розробки\n",
    "використовувати матричні операції та технології композиційних перетворень. Вхідна\n",
    "матриця координат кутів геометричної фігури має бути розширеною.\n",
    "<br>Фігура - ромб\n",
    "\n",
    "\n"
   ]
  },
  {
   "cell_type": "markdown",
   "id": "4c6598cd-8b6e-4785-b561-4bb031e0aa9f",
   "metadata": {
    "tags": []
   },
   "source": [
    "Реалізувати операції: обертання –\n",
    "переміщення – масштабування.\n",
    "операцію реалізувати циклічно,\n",
    "траєкторію зміни положення цієї\n",
    "операції відобразити."
   ]
  },
  {
   "cell_type": "markdown",
   "id": "126f01be-57c6-46a4-b96f-a4f558b185eb",
   "metadata": {},
   "source": [
    "Здійснити синтез математичних моделей та розробити програмний скрипт, що\n",
    "реалізує базові операції 3D перетворень над геометричними примітивами: аксонометрична\n",
    "проекція будь-якого типу та з циклічне обертання (анімація) 3D графічного об’єкту навколо\n",
    "будь-якої обраної внутрішньої віссю. Траєкторію обертання не відображати. Для розробки\n",
    "використовувати матричні операції. Вхідна матриця координат кутів геометричної фігури\n",
    "має бути розширеною.\n",
    "<br>Фігура - паралелепіпед\n"
   ]
  },
  {
   "cell_type": "code",
   "execution_count": 1,
   "id": "ad7d84db-90bd-4cfd-9fb5-76c837457d95",
   "metadata": {
    "tags": []
   },
   "outputs": [],
   "source": [
    "import numpy as np\n",
    "import matplotlib.pyplot as plt\n",
    "import matplotlib.animation as animation\n",
    "import tkinter as tk\n",
    "import time\n",
    "import random"
   ]
  },
  {
   "cell_type": "code",
   "execution_count": 2,
   "id": "f8e79567-26f3-448c-97e8-6e2c5112bf51",
   "metadata": {
    "tags": []
   },
   "outputs": [],
   "source": [
    "diamond = np.array([[0, 1, 0, -1],\n",
    "                    [1, 0, -1, 0],\n",
    "                    [1, 1, 1, 1]])\n",
    "\n"
   ]
  },
  {
   "cell_type": "code",
   "execution_count": 3,
   "id": "36910905-7736-4470-a2f1-ec7c75878ae0",
   "metadata": {
    "tags": []
   },
   "outputs": [],
   "source": [
    "def plot_diamond(diamond,color, label):\n",
    "    plt.plot(np.append(diamond[0], diamond[0][0]), np.append(diamond[1], diamond[1][0]), color, label=label)\n",
    "    \n",
    "def rotate(diamond, angle):\n",
    "    rotation_matrix = np.array([[np.cos(angle), -np.sin(angle), 0],\n",
    "                                [np.sin(angle), np.cos(angle), 0],\n",
    "                                [0, 0, 1]])\n",
    "    return np.dot(rotation_matrix, diamond)\n",
    "\n",
    "\n",
    "def translate(diamond, dx, dy):\n",
    "    translation_matrix = np.array([[1, 0, dx],\n",
    "                                   [0, 1, dy],\n",
    "                                   [0, 0, 1]])\n",
    "    return np.dot(translation_matrix, diamond)\n",
    "\n",
    "\n",
    "def scale(diamond, sx, sy):\n",
    "    scaling_matrix = np.array([[sx, 0, 0],\n",
    "                                [0, sy, 0],\n",
    "                                [0, 0, 1]])\n",
    "    return np.dot(scaling_matrix, diamond)\n"
   ]
  },
  {
   "cell_type": "code",
   "execution_count": 4,
   "id": "d018cff4-7158-412d-88b5-8752196d41d2",
   "metadata": {
    "tags": []
   },
   "outputs": [
    {
     "data": {
      "image/png": "[encoded data removed]",
      "text/plain": [
       "<Figure size 640x480 with 1 Axes>"
      ]
     },
     "metadata": {},
     "output_type": "display_data"
    }
   ],
   "source": [
    "plot_diamond(diamond, 'b', 'Original')\n",
    "\n",
    "translated_diamond = translate(diamond, 2, 3)\n",
    "plot_diamond(translated_diamond, 'r', \"Translated\")\n",
    "\n",
    "rotated_diamond = rotate(diamond, np.pi/4)\n",
    "plot_diamond(rotated_diamond, 'g', \"Rotated\")\n",
    "\n",
    "scaled_diamond = scale(diamond, 2, 0.5)\n",
    "plot_diamond(scaled_diamond, 'y', \"Scaled\")\n",
    "\n",
    "plt.gca().set_aspect('equal', adjustable='box')\n",
    "plt.grid()\n",
    "plt.legend()\n",
    "plt.show()"
   ]
  },
  {
   "cell_type": "code",
   "execution_count": 5,
   "id": "b2478a61",
   "metadata": {
    "tags": []
   },
   "outputs": [],
   "source": [
    "\n",
    "diamond_size = 100\n",
    "diamond = np.array([[-diamond_size/2, 0],\n",
    "                    [0, -diamond_size/2],\n",
    "                    [diamond_size/2, 0],\n",
    "                    [0, diamond_size/2],\n",
    "                    [-diamond_size/2, 0]])\n",
    "\n",
    "# Функція для обертання ромба\n",
    "def rotate(diamond, angle):\n",
    "    theta = np.radians(angle)\n",
    "    c, s = np.cos(theta), np.sin(theta)\n",
    "    rotation_matrix = np.array(((c, -s), (s, c)))\n",
    "    return np.dot(diamond, rotation_matrix)\n",
    "\n",
    "# Функція для переміщення ромба\n",
    "def translate(diamond, dx, dy):\n",
    "    for i in range(len(diamond)):\n",
    "        diamond[i][0] += dx\n",
    "        diamond[i][1] += dy\n",
    "    return diamond\n",
    "\n",
    "# Функція для масштабування ромба\n",
    "def scale(diamond, scale_factor):\n",
    "    for i in range(len(diamond)):\n",
    "        diamond[i][0] *= scale_factor\n",
    "        diamond[i][1] *= scale_factor\n",
    "    return diamond\n",
    "\n",
    "# Функція для анімації\n",
    "def animate():\n",
    "    global diamond\n",
    "    canvas.delete(\"all\")\n",
    "    canvas.create_polygon(diamond.flatten().tolist(), outline='blue', fill='')\n",
    "\n",
    "    # Змінюємо ромб на кожному кадрі\n",
    "    diamond = rotate(diamond, 20)\n",
    "    diamond = translate(diamond, 1, 1)\n",
    "    diamond = scale(diamond, 1.01)\n",
    "    root.after(50, animate)\n",
    "\n",
    "root = tk.Tk()\n",
    "root.title(\"2D Transformations Animation\")\n",
    "\n",
    "# Створення полотна Tkinter\n",
    "canvas = tk.Canvas(root, width=1000, height=1000)\n",
    "canvas.pack()\n",
    "\n",
    "# Визначення початкової позиції ромба\n",
    "start_x = 50\n",
    "start_y = 50\n",
    "diamond = translate(diamond, start_x, start_y)\n",
    "\n",
    "# Запуск анімації\n",
    "animate()\n",
    "\n",
    "# Запуск головного циклу Tkinter\n",
    "root.mainloop()\n"
   ]
  },
  {
   "cell_type": "code",
   "execution_count": 6,
   "id": "fa174022-912f-4d10-83c2-048015730128",
   "metadata": {
    "tags": []
   },
   "outputs": [
    {
     "name": "stderr",
     "output_type": "stream",
     "text": [
      "Exception in Tkinter callback\n",
      "Traceback (most recent call last):\n",
      "  File \"C:\\Users\\user\\anaconda3\\Lib\\tkinter\\__init__.py\", line 1948, in __call__\n",
      "    return self.func(*args)\n",
      "           ^^^^^^^^^^^^^^^^\n",
      "  File \"C:\\Users\\user\\anaconda3\\Lib\\tkinter\\__init__.py\", line 861, in callit\n",
      "    func(*args)\n",
      "  File \"C:\\Users\\user\\AppData\\Local\\Temp\\ipykernel_7768\\3040084159.py\", line 22, in draw_cube\n",
      "    canvas.delete(\"cube\")  # Видаляємо паралелепіпед\n",
      "    ^^^^^^^^^^^^^^^^^^^^^\n",
      "  File \"C:\\Users\\user\\anaconda3\\Lib\\tkinter\\__init__.py\", line 2879, in delete\n",
      "    self.tk.call((self._w, 'delete') + args)\n",
      "_tkinter.TclError: invalid command name \".!canvas\"\n"
     ]
    }
   ],
   "source": [
    "import tkinter as tk\n",
    "import time\n",
    "\n",
    "root = tk.Tk()\n",
    "canvas = tk.Canvas(root, width=400, height=400)\n",
    "canvas.pack()\n",
    "\n",
    "\n",
    "def draw_cube():\n",
    "    vertices = [(150, 50), (250, 50), (350, 150), (250, 150)]\n",
    "    vertices_bottom = [(150, 250), (250, 250), (350, 350), (250, 350)]\n",
    "    colors = [\"#ff0000\", \"#00ff00\", \"#0000ff\", \"#ffff00\", \"#00ffff\", \"#ff00ff\"]  # список кольорів\n",
    "\n",
    "    for color in colors:\n",
    "        for i in range(4):\n",
    "            j = (i + 1) % 4\n",
    "            canvas.create_polygon(vertices[i][0], vertices[i][1], vertices[j][0], vertices[j][1],\n",
    "                                       vertices_bottom[j][0], vertices_bottom[j][1], vertices_bottom[i][0],\n",
    "                                       vertices_bottom[i][1], fill=color, outline=\"black\")\n",
    "        root.update()\n",
    "        time.sleep(1)\n",
    "        canvas.delete(\"cube\")  # Видаляємо паралелепіпед\n",
    "\n",
    "    root.after(2000,draw_cube)  # Запускаємо знову через 2 секунди\n",
    "\n",
    "draw_cube()\n",
    "root.mainloop()"
   ]
  },
  {
   "cell_type": "code",
   "execution_count": null,
   "id": "47f16380-ccc0-4a40-84e7-6156b4feed04",
   "metadata": {},
   "outputs": [],
   "source": []
  },
  {
   "cell_type": "code",
   "execution_count": null,
   "id": "5f2cf922-4e26-4980-8455-353049ac4806",
   "metadata": {},
   "outputs": [],
   "source": []
  }
 ],
 "metadata": {
  "kernelspec": {
   "display_name": "Python 3 (ipykernel)",
   "language": "python",
   "name": "python3"
  },
  "language_info": {
   "codemirror_mode": {
    "name": "ipython",
    "version": 3
   },
   "file_extension": ".py",
   "mimetype": "text/x-python",
   "name": "python",
   "nbconvert_exporter": "python",
   "pygments_lexer": "ipython3",
   "version": "3.11.5"
  }
 },
 "nbformat": 4,
 "nbformat_minor": 5
}
